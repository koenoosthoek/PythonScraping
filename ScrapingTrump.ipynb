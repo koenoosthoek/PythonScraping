{
 "cells": [
  {
   "cell_type": "code",
   "execution_count": 52,
   "metadata": {},
   "outputs": [
    {
     "name": "stdout",
     "output_type": "stream",
     "text": [
      "trump-speeches\\speeches\\speech0.txt\n",
      "trump-speeches\\speeches\\speech1.txt\n",
      "trump-speeches\\speeches\\speech2.txt\n",
      "trump-speeches\\speeches\\speech3.txt\n",
      "trump-speeches\\speeches\\speech4.txt\n",
      "trump-speeches\\speeches\\speech5.txt\n",
      "trump-speeches\\speeches\\speech6.txt\n",
      "trump-speeches\\speeches\\speech7.txt\n",
      "trump-speeches\\speeches\\speech8.txt\n"
     ]
    }
   ],
   "source": [
    "corpus = \"\"\n",
    "for No in range(0, 10):\n",
    "    filepath = \"trump-speeches\\speeches\\speech\"+str(No)+\".txt\"\n",
    "    print(filepath)\n",
    "    \n",
    "    try:\n",
    "        f = open(filepath, \"r\")\n",
    "        speech = f.read()\n",
    "    except:\n",
    "        print(\"no such file\")\n",
    "    corpus = corpus + speech\n",
    "\n",
    "try:\n",
    "    f = open(\"corpus.txt\", \"w\")\n",
    "    f.write(corpus)\n",
    "except:\n",
    "    print(\"unable to print to file\")"
   ]
  }
 ],
 "metadata": {
  "interpreter": {
   "hash": "8ff17ad368032c9d1e6c86530981ccaeb979061e539b84c70f30ac8107311ba4"
  },
  "kernelspec": {
   "display_name": "Python 3.9.7 64-bit",
   "name": "python3"
  },
  "language_info": {
   "codemirror_mode": {
    "name": "ipython",
    "version": 3
   },
   "file_extension": ".py",
   "mimetype": "text/x-python",
   "name": "python",
   "nbconvert_exporter": "python",
   "pygments_lexer": "ipython3",
   "version": "3.9.7"
  },
  "orig_nbformat": 4
 },
 "nbformat": 4,
 "nbformat_minor": 2
}
